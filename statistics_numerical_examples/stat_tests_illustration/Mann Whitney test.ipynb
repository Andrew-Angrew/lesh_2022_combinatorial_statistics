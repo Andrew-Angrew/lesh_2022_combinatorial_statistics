{
 "cells": [
  {
   "cell_type": "code",
   "execution_count": 1,
   "metadata": {},
   "outputs": [],
   "source": [
    "import numpy as np\n",
    "from scipy.stats import mannwhitneyu, uniform, norm\n",
    "from matplotlib import pyplot as plt\n"
   ]
  },
  {
   "cell_type": "code",
   "execution_count": 2,
   "metadata": {},
   "outputs": [],
   "source": [
    "def test_mann_whitney(first_distr, second_distr, sample_size, significance_level=0.05, n_tests=10000):\n",
    "    positive_results = 0\n",
    "    for i in range(n_tests):\n",
    "        first_sample = first_distr.rvs(sample_size)\n",
    "        second_sample = second_distr.rvs(sample_size)\n",
    "        pvalue = mannwhitneyu(first_sample, second_sample, alternative='two-sided').pvalue\n",
    "        if pvalue < significance_level:\n",
    "            positive_results += 1\n",
    "    return positive_results / n_tests"
   ]
  },
  {
   "cell_type": "code",
   "execution_count": 3,
   "metadata": {},
   "outputs": [
    {
     "data": {
      "text/plain": [
       "0.0431"
      ]
     },
     "execution_count": 3,
     "metadata": {},
     "output_type": "execute_result"
    }
   ],
   "source": [
    "first_distr = uniform(0, 1)\n",
    "second_distr = uniform(0, 1)\n",
    "test_mann_whitney(first_distr, second_distr, 10)"
   ]
  },
  {
   "cell_type": "code",
   "execution_count": 4,
   "metadata": {},
   "outputs": [
    {
     "data": {
      "text/plain": [
       "0.0481"
      ]
     },
     "execution_count": 4,
     "metadata": {},
     "output_type": "execute_result"
    }
   ],
   "source": [
    "first_distr = uniform(0, 1)\n",
    "second_distr = uniform(0, 1)\n",
    "test_mann_whitney(first_distr, second_distr, 100)"
   ]
  },
  {
   "cell_type": "code",
   "execution_count": 5,
   "metadata": {},
   "outputs": [
    {
     "data": {
      "text/plain": [
       "0.69"
      ]
     },
     "execution_count": 5,
     "metadata": {},
     "output_type": "execute_result"
    }
   ],
   "source": [
    "first_distr = uniform(0, 1)\n",
    "second_distr = norm(0, 1)\n",
    "test_mann_whitney(first_distr, second_distr, 30)"
   ]
  },
  {
   "cell_type": "code",
   "execution_count": 6,
   "metadata": {},
   "outputs": [
    {
     "data": {
      "image/png": "[encoded data removed]",
      "text/plain": [
       "<Figure size 432x288 with 1 Axes>"
      ]
     },
     "metadata": {
      "needs_background": "light"
     },
     "output_type": "display_data"
    }
   ],
   "source": [
    "# plot distributions\n",
    "x = np.linspace(-3, 3, 1001)\n",
    "plt.plot(first_distr.pdf(x),)\n",
    "plt.plot(second_distr.pdf(x))\n",
    "plt.show()"
   ]
  },
  {
   "cell_type": "code",
   "execution_count": 7,
   "metadata": {},
   "outputs": [
    {
     "data": {
      "image/png": "[encoded data removed]",
      "text/plain": [
       "<Figure size 432x288 with 1 Axes>"
      ]
     },
     "metadata": {
      "needs_background": "light"
     },
     "output_type": "display_data"
    }
   ],
   "source": [
    "from scipy.special import binom\n",
    "from itertools import combinations, product\n",
    "from functools import lru_cache\n",
    "\n",
    "@lru_cache(None)\n",
    "def build_u_stat_distribution(first_sample_size, second_sample_size):\n",
    "    assert first_sample_size <= 10\n",
    "    assert second_sample_size <= 10\n",
    "    total_size = first_sample_size + second_sample_size\n",
    "    u_stat_max_value = first_sample_size * second_sample_size\n",
    "    distribution = np.zeros(u_stat_max_value + 1, dtype=np.float64)\n",
    "    for first_sample_ranks in combinations(range(total_size), first_sample_size):\n",
    "        u_value = 0\n",
    "        for i, rank in enumerate(first_sample_ranks):\n",
    "            u_value += rank - i\n",
    "        distribution[u_value] += 1\n",
    "    return distribution / distribution.sum()\n",
    "\n",
    "def exact_two_sided_mann_whitney(first_sample, second_sample):\n",
    "    u_stat = sum(a > b for a, b in product(first_sample, second_sample))\n",
    "    mean_value = len(first_sample) * len(second_sample) / 2\n",
    "    sample_deviation = abs(u_stat - mean_value)\n",
    "    distribution = build_u_stat_distribution(len(first_sample), len(second_sample))\n",
    "    pvalue = 0\n",
    "    for possible_value, prob in enumerate(distribution):\n",
    "        deviation = abs(possible_value - mean_value)\n",
    "        if deviation >= sample_deviation:\n",
    "            pvalue += prob\n",
    "    return pvalue\n",
    "\n",
    "def test_exact_mann_whitney(first_distr, second_distr, sample_size, significance_level=0.05, n_tests=10000):\n",
    "    positive_results = 0\n",
    "    for i in range(n_tests):\n",
    "        first_sample = first_distr.rvs(sample_size)\n",
    "        second_sample = second_distr.rvs(sample_size)\n",
    "        pvalue = exact_two_sided_mann_whitney(first_sample, second_sample)\n",
    "        if pvalue < significance_level:\n",
    "            positive_results += 1\n",
    "    return positive_results / n_tests\n",
    "\n",
    "\n",
    "\n",
    "plt.plot(build_u_stat_distribution(10, 10))\n",
    "plt.show()"
   ]
  },
  {
   "cell_type": "code",
   "execution_count": 8,
   "metadata": {},
   "outputs": [
    {
     "data": {
      "text/plain": [
       "0.0414"
      ]
     },
     "execution_count": 8,
     "metadata": {},
     "output_type": "execute_result"
    }
   ],
   "source": [
    "test_exact_mann_whitney(uniform(), uniform(), 10)"
   ]
  },
  {
   "cell_type": "code",
   "execution_count": 9,
   "metadata": {},
   "outputs": [
    {
     "data": {
      "text/plain": [
       "0.4793"
      ]
     },
     "execution_count": 9,
     "metadata": {},
     "output_type": "execute_result"
    }
   ],
   "source": [
    "test_exact_mann_whitney(uniform(), uniform(0, 2), 10)"
   ]
  },
  {
   "cell_type": "code",
   "execution_count": null,
   "metadata": {},
   "outputs": [],
   "source": []
  }
 ],
 "metadata": {
  "kernelspec": {
   "display_name": "Python 3",
   "language": "python",
   "name": "python3"
  },
  "language_info": {
   "codemirror_mode": {
    "name": "ipython",
    "version": 3
   },
   "file_extension": ".py",
   "mimetype": "text/x-python",
   "name": "python",
   "nbconvert_exporter": "python",
   "pygments_lexer": "ipython3",
   "version": "3.8.5"
  }
 },
 "nbformat": 4,
 "nbformat_minor": 2
}
